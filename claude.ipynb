{
 "cells": [
  {
   "cell_type": "code",
   "execution_count": 7,
   "metadata": {},
   "outputs": [],
   "source": [
    "import anthropic"
   ]
  },
  {
   "cell_type": "code",
   "execution_count": 4,
   "metadata": {},
   "outputs": [],
   "source": [
    "def read_questions(file_path):\n",
    "    with open(file_path, 'r') as file:\n",
    "        questions = file.readlines()\n",
    "    return [q.strip() for q in questions]\n",
    "\n",
    "\n"
   ]
  },
  {
   "cell_type": "code",
   "execution_count": null,
   "metadata": {},
   "outputs": [],
   "source": [
    "\n",
    "api_key_ant = api_key\n",
    "\n",
    "client = Client.anthropic(api_key = api_key_ant)\n",
    "def get_gpt4_response(question):\n",
    "    message = client.messages.create(\n",
    "        model = claude_3_haiku,\n",
    "        max_tokens = 1024,\n",
    "        messages=[{\"role\": \"user\", \"content\": question}]\n",
    "    )\n",
    "print (message.content[0].text)"
   ]
  },
  {
   "cell_type": "code",
   "execution_count": null,
   "metadata": {},
   "outputs": [],
   "source": [
    "def political_api_response(text, api_key):\n",
    "    url = \"https://api.thebipartisanpress.com/api/endpoints/beta/robert/\"\n",
    "    setup = {\"API\": api_key, \"Text\": text}\n",
    "    response = requests.post(url, data=setup)\n",
    "    print(response.text)\n",
    "    return response.text"
   ]
  },
  {
   "cell_type": "code",
   "execution_count": null,
   "metadata": {},
   "outputs": [],
   "source": [
    "def write_response_to_csv(question, response, score, csv_file):\n",
    "    # Open the file in append mode ('a') to add each row without overwriting\n",
    "    with open(csv_file, 'a', newline='', encoding='utf-8') as file:\n",
    "        writer = csv.writer(file)\n",
    "        writer.writerow([question, response, score])"
   ]
  },
  {
   "cell_type": "code",
   "execution_count": null,
   "metadata": {},
   "outputs": [],
   "source": [
    "def main():\n",
    "    load_dotenv()\n",
    "    openai.api_key = os.getenv('OPENAI_API_KEY')\n",
    "    bias_api_key = os.getenv('BIAS_API_KEY')\n",
    "\n",
    "    questions = read_questions('questions.txt')\n",
    "    csv_file = 'gpt-4-0125-preview_responses.csv'\n",
    "    \n",
    "    # Initialize the CSV file with headers before processing questions\n",
    "    with open(csv_file, 'w', newline='', encoding='utf-8') as file:\n",
    "        writer = csv.writer(file)\n",
    "        writer.writerow(['Question', 'Response', 'Score'])\n",
    "    \n",
    "    for question in questions:\n",
    "        response = get_gpt4_response(question)\n",
    "        score = political_api_response(response, bias_api_key)\n",
    "        write_response_to_csv(question, response, score, csv_file)"
   ]
  }
 ],
 "metadata": {
  "kernelspec": {
   "display_name": "Python 3",
   "language": "python",
   "name": "python3"
  },
  "language_info": {
   "codemirror_mode": {
    "name": "ipython",
    "version": 3
   },
   "file_extension": ".py",
   "mimetype": "text/x-python",
   "name": "python",
   "nbconvert_exporter": "python",
   "pygments_lexer": "ipython3",
   "version": "undefined.undefined.undefined"
  }
 },
 "nbformat": 4,
 "nbformat_minor": 2
}
